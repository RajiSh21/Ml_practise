{
  "nbformat": 4,
  "nbformat_minor": 0,
  "metadata": {
    "colab": {
      "provenance": [],
      "authorship_tag": "ABX9TyNfLcsqNg/8Wvc4pi59cA/R",
      "include_colab_link": true
    },
    "kernelspec": {
      "name": "python3",
      "display_name": "Python 3"
    },
    "language_info": {
      "name": "python"
    }
  },
  "cells": [
    {
      "cell_type": "markdown",
      "metadata": {
        "id": "view-in-github",
        "colab_type": "text"
      },
      "source": [
        "<a href=\"https://colab.research.google.com/github/RajiSh21/Ml_practise/blob/main/datacleaning.ipynb\" target=\"_parent\"><img src=\"https://colab.research.google.com/assets/colab-badge.svg\" alt=\"Open In Colab\"/></a>"
      ]
    },
    {
      "cell_type": "code",
      "execution_count": 6,
      "metadata": {
        "colab": {
          "base_uri": "https://localhost:8080/"
        },
        "id": "nP99PWQK5ILX",
        "outputId": "73feb810-984c-428c-febc-64fbf71ae00a"
      },
      "outputs": [
        {
          "output_type": "stream",
          "name": "stderr",
          "text": [
            "<ipython-input-6-1a9e2cc611ae>:4: DtypeWarning: Columns (22,32) have mixed types. Specify dtype option on import or set low_memory=False.\n",
            "  df = pd.read_csv('Building_Permits.csv')\n"
          ]
        },
        {
          "output_type": "stream",
          "name": "stdout",
          "text": [
            "Permit Number                             0\n",
            "Permit Type                               0\n",
            "Permit Type Definition                    0\n",
            "Permit Creation Date                      0\n",
            "Block                                     0\n",
            "Lot                                       0\n",
            "Street Number                             0\n",
            "Street Number Suffix                      5\n",
            "Street Name                               0\n",
            "Street Suffix                             0\n",
            "Unit                                      3\n",
            "Unit Suffix                               5\n",
            "Description                               0\n",
            "Current Status                            0\n",
            "Current Status Date                       0\n",
            "Filed Date                                0\n",
            "Issued Date                               1\n",
            "Completed Date                            4\n",
            "First Construction Document Date          1\n",
            "Structural Notification                   5\n",
            "Number of Existing Stories                0\n",
            "Number of Proposed Stories                3\n",
            "Voluntary Soft-Story Retrofit             5\n",
            "Fire Only Permit                          5\n",
            "Permit Expiration Date                    1\n",
            "Estimated Cost                            0\n",
            "Revised Cost                              1\n",
            "Existing Use                              0\n",
            "Existing Units                            2\n",
            "Proposed Use                              3\n",
            "Proposed Units                            3\n",
            "Plansets                                  0\n",
            "TIDF Compliance                           5\n",
            "Existing Construction Type                0\n",
            "Existing Construction Type Description    0\n",
            "Proposed Construction Type                3\n",
            "Proposed Construction Type Description    3\n",
            "Site Permit                               5\n",
            "Supervisor District                       0\n",
            "Neighborhoods - Analysis Boundaries       0\n",
            "Zipcode                                   0\n",
            "Location                                  0\n",
            "Record ID                                 0\n",
            "dtype: int64\n"
          ]
        }
      ],
      "source": [
        "import numpy as np\n",
        "import pandas as pd\n",
        "\n",
        "df = pd.read_csv('Building_Permits.csv')\n",
        "df = df.head()\n",
        "print(df.isnull().sum())"
      ]
    },
    {
      "cell_type": "code",
      "source": [
        "print(df.duplicated().sum())"
      ],
      "metadata": {
        "colab": {
          "base_uri": "https://localhost:8080/"
        },
        "id": "mL-C9j2972A6",
        "outputId": "20e43e91-6111-43cd-eb20-da16440a2992"
      },
      "execution_count": 7,
      "outputs": [
        {
          "output_type": "stream",
          "name": "stdout",
          "text": [
            "0\n"
          ]
        }
      ]
    }
  ]
}